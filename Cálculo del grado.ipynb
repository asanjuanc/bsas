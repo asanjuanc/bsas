{
 "cells": [
  {
   "cell_type": "markdown",
   "metadata": {},
   "source": [
    "<h1>Cálculo numérico del grado<h1>"
   ]
  },
  {
   "cell_type": "markdown",
   "metadata": {},
   "source": [
    "Sea $g:\\mathbb T\\to \\mathbb R$ una función de clase $C^2$, $P:L^2(\\mathbb T)\\to \\langle \\sin(mt), \\cos(mt)\\rangle$ la proyección ortogonal sobre $\\langle \\sin(mt), \\cos(mt)\\rangle$ y $p$ una función continua y $2\\pi$-periódica. El operador de Nemitsky $\\mathcal N$ está definido por $\\mathcal Nu(t)=p(t)-g(u(t-\\tau))$ y estamos interesados en calcular $deg \\Gamma$ donde $\\Gamma=P\\mathcal N$ definida en una bola grande de $\\langle \\sin(mt), \\cos(mt)\\rangle$ en  $\\langle \\sin(mt), \\cos(mt)\\rangle$ "
   ]
  },
  {
   "cell_type": "markdown",
   "metadata": {},
   "source": [
    "*La siguiente celda llama las librerías básicas*"
   ]
  },
  {
   "cell_type": "code",
   "execution_count": 4,
   "metadata": {},
   "outputs": [],
   "source": [
    "#gráficos en línea\n",
    "%matplotlib inline\n",
    "#librería de gráficas\n",
    "import matplotlib.pyplot as plt\n",
    "#librería de manipulación numérica\n",
    "import numpy as np\n",
    "#integración numérica\n",
    "from scipy.integrate import quad\n",
    "#procedimiento para encontrar raices\n",
    "from scipy import optimize"
   ]
  },
  {
   "cell_type": "markdown",
   "metadata": {},
   "source": [
    "*Definición de $g$, $m$ y $\\tau$*"
   ]
  },
  {
   "cell_type": "code",
   "execution_count": 15,
   "metadata": {},
   "outputs": [],
   "source": [
    "def g(x):\n",
    "    return np.arctan(x)\n",
    "m = 1\n",
    "τ = 1.5"
   ]
  },
  {
   "cell_type": "markdown",
   "metadata": {},
   "source": [
    "*De la función $p$ solo nos interesa su componente en el núcleo a la que llamamos $Pp$ y por lazer leach sabemos que no puede ser muy grnde*"
   ]
  },
  {
   "cell_type": "code",
   "execution_count": 10,
   "metadata": {},
   "outputs": [],
   "source": [
    "Pp = np.array([0, 0.2])"
   ]
  },
  {
   "cell_type": "markdown",
   "metadata": {},
   "source": [
    "*Definición de la función proyección $P$ evaluada en una función $f$*"
   ]
  },
  {
   "cell_type": "code",
   "execution_count": 11,
   "metadata": {},
   "outputs": [],
   "source": [
    "def P(f):\n",
    "    am = quad(lambda t: (1/np.pi)*np.cos(m*t)*f(t), 0, 2*np.pi)[0]\n",
    "    bm = quad(lambda t: (1/np.pi)*np.sin(m*t)*f(t), 0, 2*np.pi)[0]\n",
    "    return np.array([am, bm])"
   ]
  },
  {
   "cell_type": "markdown",
   "metadata": {},
   "source": [
    "*Definición de la función $\\Gamma$ a la que le calcularemos el grado*"
   ]
  },
  {
   "cell_type": "code",
   "execution_count": 16,
   "metadata": {},
   "outputs": [],
   "source": [
    "def  Γ(x):\n",
    "    return  Pp - P(lambda t: g(x[0]*np.cos(t- τ) + x[1]*np.sin(t- τ)))"
   ]
  },
  {
   "cell_type": "markdown",
   "metadata": {},
   "source": [
    "*Par determinar el número de ceros y su ubicación aproximada lo vamos a realizar heurísticamente mediante una gráfica. Es aquí donde no sé como proceder en $\\mathbb R^4$. Se me ocurre hacer una malla de dimensión 4 y ver donde el radio es muy pequeño pero me parece un procedimiento muy heurístico e ineficiente* "
   ]
  },
  {
   "cell_type": "code",
   "execution_count": 17,
   "metadata": {},
   "outputs": [],
   "source": [
    "x = np.linspace(-20,20)\n",
    "y = np.linspace(-20,20)\n",
    "xx, yy = np.meshgrid(x, y)\n",
    "zz = np.empty([len(y),len(x)])\n",
    "for j in range(len(y)):\n",
    "    for i in range(len(x)):\n",
    "        zz[j, i] = Γ([xx[j, i],yy[j, i]])[0]**2 + Γ([xx[j, i],yy[j, i]])[1]**2"
   ]
  },
  {
   "cell_type": "code",
   "execution_count": 18,
   "metadata": {},
   "outputs": [
    {
     "data": {
      "text/plain": [
       "<matplotlib.contour.QuadContourSet at 0x7f2507463c88>"
      ]
     },
     "execution_count": 18,
     "metadata": {},
     "output_type": "execute_result"
    },
    {
     "data": {
      "image/png": "[encoded data removed]",
      "text/plain": [
       "<Figure size 432x288 with 2 Axes>"
      ]
     },
     "metadata": {
      "needs_background": "light"
     },
     "output_type": "display_data"
    }
   ],
   "source": [
    "cmap = plt.cm.get_cmap(\"hot\")\n",
    "fig, ax = plt.subplots()\n",
    "cs = ax.contourf(xx, yy, zz, cmap=cmap)\n",
    "#levels = [0,1e-2,1e-1,0.5,0.8,1,2,3,4,5,6]\n",
    "fig.colorbar(cs, ax=ax)\n",
    "ax.contour(xx, yy, zz)"
   ]
  },
  {
   "cell_type": "markdown",
   "metadata": {},
   "source": [
    "*Aquí se da uno cuenta que la función parece tener un único cero y se puede calcular \"a la de Dios\". No pude dar con funciones $g$ que me dieran más de un cero. Si la componente en el núcleo de $p$, llamada $Pp$ pasa la constante de Lazer-Leach no me aparecen ceros*"
   ]
  },
  {
   "cell_type": "markdown",
   "metadata": {},
   "source": [
    "*En esta celda encontramos el cero*"
   ]
  },
  {
   "cell_type": "code",
   "execution_count": 20,
   "metadata": {},
   "outputs": [
    {
     "data": {
      "text/plain": [
       "    fjac: array([[-0.11970578, -0.99280941],\n",
       "       [ 0.99280941, -0.11970578]])\n",
       "     fun: array([-1.03593811e-15, -1.77635684e-15])\n",
       " message: 'The solution converged.'\n",
       "    nfev: 19\n",
       "     qtf: array([-1.03060570e-11,  4.46360073e-12])\n",
       "       r: array([1.07638496, 0.17224077, 0.89234766])\n",
       "  status: 1\n",
       " success: True\n",
       "       x: array([0.20151414, 0.01429034])"
      ]
     },
     "execution_count": 20,
     "metadata": {},
     "output_type": "execute_result"
    }
   ],
   "source": [
    "sol = optimize.root(Γ, [-5,0])\n",
    "sol"
   ]
  },
  {
   "cell_type": "markdown",
   "metadata": {},
   "source": [
    "*Definimos la aproximación derivada central para funciones de clase $C^2$ y el Jacobiano*"
   ]
  },
  {
   "cell_type": "code",
   "execution_count": 141,
   "metadata": {
    "collapsed": true
   },
   "outputs": [],
   "source": [
    "def c_diff(f, a, h = 1e-2):\n",
    "    return (1/h)*(f(a + 0.5*h)-f(a-0.5*h))"
   ]
  },
  {
   "cell_type": "code",
   "execution_count": 142,
   "metadata": {
    "collapsed": true
   },
   "outputs": [],
   "source": [
    "def jac(f, a, h = 1e-2):\n",
    "    f1x = cder(lambda t: f([t, a[1]])[0], a[0], h)\n",
    "    f1y = cder(lambda t: f([a[0], t])[0], a[1], h)\n",
    "    f2x = cder(lambda t: f([t, a[1]])[1], a[0], h)\n",
    "    f2y = cder(lambda t: f([a[0], t])[1], a[1], h)\n",
    "    return np.matrix([[f1x, f1y],[f2x, f2y]])"
   ]
  },
  {
   "cell_type": "markdown",
   "metadata": {},
   "source": [
    "*El grado da 1*"
   ]
  },
  {
   "cell_type": "code",
   "execution_count": 144,
   "metadata": {},
   "outputs": [
    {
     "data": {
      "text/plain": [
       "1.0"
      ]
     },
     "execution_count": 144,
     "metadata": {},
     "output_type": "execute_result"
    }
   ],
   "source": [
    "np.sign(np.linalg.det(jac(PN, sol)))"
   ]
  },
  {
   "cell_type": "code",
   "execution_count": null,
   "metadata": {
    "collapsed": true
   },
   "outputs": [],
   "source": []
  }
 ],
 "metadata": {
  "kernelspec": {
   "display_name": "Python 3",
   "language": "python",
   "name": "python3"
  },
  "language_info": {
   "codemirror_mode": {
    "name": "ipython",
    "version": 3
   },
   "file_extension": ".py",
   "mimetype": "text/x-python",
   "name": "python",
   "nbconvert_exporter": "python",
   "pygments_lexer": "ipython3",
   "version": "3.7.1"
  }
 },
 "nbformat": 4,
 "nbformat_minor": 2
}
